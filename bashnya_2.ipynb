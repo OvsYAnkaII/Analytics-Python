{
 "cells": [
  {
   "cell_type": "code",
   "execution_count": 95,
   "id": "2462acd3-adcb-4985-b46b-3c930914ab5a",
   "metadata": {},
   "outputs": [],
   "source": [
    "#уставливаем нужные библиотеки (команда пип не работает, но работает пип3, возможно из за macOS)\n",
    "!pip3 install numpy\n",
    "!pip3 install pandas\n",
    "!pip3 install matplotlib\n",
    "#!pip3 install openpyxl"
   ]
  },
  {
   "cell_type": "code",
   "execution_count": 115,
   "id": "8d6a000a-0068-486b-a145-69eb27dcfe65",
   "metadata": {},
   "outputs": [],
   "source": [
    "# подключаем нужные библиотке и даем им ярлыки(alias) для простого обращения к ним\n",
    "import numpy as np\n",
    "import pandas as pd\n",
    "import matplotlib.pyplot as plt\n",
    "from openpyxl import load_workbook"
   ]
  },
  {
   "cell_type": "markdown",
   "id": "8deb2f6f-f6c4-4e0d-8f90-dede7059003c",
   "metadata": {},
   "source": [
    "# Задание 1. Загрузка данных из файлов"
   ]
  },
  {
   "cell_type": "code",
   "execution_count": 68,
   "id": "f106a6b2-2eba-42a7-9dbf-756a6293b5c7",
   "metadata": {},
   "outputs": [],
   "source": [
    "df_completed = pd.read_csv('hw_lesson02_tutorial_completed.csv')\n",
    "#df_sessions = pd.read_excel('hw_lesson02_sessions.xlsx', sheet_name='data')\n",
    "\n",
    "# В общем я не разобрался как это открыть, спасибо всем в чате кто пытался помочь\n",
    "# wb2 = load_workbook('hw_lesson02_sessions.xlsx')\n",
    "# wb2\n",
    "\n",
    "# далее все дз я буду работать только с одним файлом"
   ]
  },
  {
   "cell_type": "code",
   "execution_count": 79,
   "id": "400db22c-6da9-4a6e-8e9a-2e2a2988697e",
   "metadata": {},
   "outputs": [
    {
     "name": "stdout",
     "output_type": "stream",
     "text": [
      "Index(['user_id', 'event_name', 'event_dt', 'duration_sec'], dtype='object')\n",
      "\n",
      " ================================================================================ \n",
      "\n",
      "<class 'pandas.core.frame.DataFrame'>\n",
      "RangeIndex: 59857 entries, 0 to 59856\n",
      "Data columns (total 4 columns):\n",
      " #   Column        Non-Null Count  Dtype \n",
      "---  ------        --------------  ----- \n",
      " 0   user_id       59857 non-null  object\n",
      " 1   event_name    59857 non-null  object\n",
      " 2   event_dt      59857 non-null  object\n",
      " 3   duration_sec  59857 non-null  int64 \n",
      "dtypes: int64(1), object(3)\n",
      "memory usage: 1.8+ MB\n"
     ]
    }
   ],
   "source": [
    "print(df_completed.columns) # выводим все колонки в фрейме, без принта не выводит!\n",
    "print(\"\\n\",'='*80,\"\\n\")\n",
    "df_completed.info() # получаем информацию о файле: в файле 4 колонки user_id, event_name, event_dt, duration_sec. Вес файла 1.8+ MB"
   ]
  },
  {
   "cell_type": "code",
   "execution_count": 40,
   "id": "db36de51-1d82-4a7e-857e-7de05569a554",
   "metadata": {},
   "outputs": [
    {
     "data": {
      "text/html": [
       "<div>\n",
       "<style scoped>\n",
       "    .dataframe tbody tr th:only-of-type {\n",
       "        vertical-align: middle;\n",
       "    }\n",
       "\n",
       "    .dataframe tbody tr th {\n",
       "        vertical-align: top;\n",
       "    }\n",
       "\n",
       "    .dataframe thead th {\n",
       "        text-align: right;\n",
       "    }\n",
       "</style>\n",
       "<table border=\"1\" class=\"dataframe\">\n",
       "  <thead>\n",
       "    <tr style=\"text-align: right;\">\n",
       "      <th></th>\n",
       "      <th>user_id</th>\n",
       "      <th>event_name</th>\n",
       "      <th>event_dt</th>\n",
       "      <th>duration_sec</th>\n",
       "    </tr>\n",
       "  </thead>\n",
       "  <tbody>\n",
       "    <tr>\n",
       "      <th>0</th>\n",
       "      <td>--0-b0cbb8-a</td>\n",
       "      <td>tutorial_completed</td>\n",
       "      <td>2020-06-08 13:46:07</td>\n",
       "      <td>951</td>\n",
       "    </tr>\n",
       "    <tr>\n",
       "      <th>1</th>\n",
       "      <td>--014ca35_b7</td>\n",
       "      <td>tutorial_completed</td>\n",
       "      <td>2020-05-09 04:20:13</td>\n",
       "      <td>1143</td>\n",
       "    </tr>\n",
       "    <tr>\n",
       "      <th>2</th>\n",
       "      <td>--0424774bcb</td>\n",
       "      <td>tutorial_completed</td>\n",
       "      <td>2020-05-30 07:23:05</td>\n",
       "      <td>3758</td>\n",
       "    </tr>\n",
       "    <tr>\n",
       "      <th>3</th>\n",
       "      <td>--043682a1ad</td>\n",
       "      <td>tutorial_completed</td>\n",
       "      <td>2020-05-15 03:14:40</td>\n",
       "      <td>1326</td>\n",
       "    </tr>\n",
       "    <tr>\n",
       "      <th>4</th>\n",
       "      <td>--05-26b0-6b</td>\n",
       "      <td>tutorial_completed</td>\n",
       "      <td>2020-05-20 13:07:08</td>\n",
       "      <td>2828</td>\n",
       "    </tr>\n",
       "  </tbody>\n",
       "</table>\n",
       "</div>"
      ],
      "text/plain": [
       "        user_id          event_name             event_dt  duration_sec\n",
       "0  --0-b0cbb8-a  tutorial_completed  2020-06-08 13:46:07           951\n",
       "1  --014ca35_b7  tutorial_completed  2020-05-09 04:20:13          1143\n",
       "2  --0424774bcb  tutorial_completed  2020-05-30 07:23:05          3758\n",
       "3  --043682a1ad  tutorial_completed  2020-05-15 03:14:40          1326\n",
       "4  --05-26b0-6b  tutorial_completed  2020-05-20 13:07:08          2828"
      ]
     },
     "execution_count": 40,
     "metadata": {},
     "output_type": "execute_result"
    }
   ],
   "source": [
    "df_completed.head(5) #выводим первые 5 строчек фрейма"
   ]
  },
  {
   "cell_type": "code",
   "execution_count": 93,
   "id": "14b471ee-027d-4d35-afd8-cc65867a785e",
   "metadata": {},
   "outputs": [
    {
     "data": {
      "text/plain": [
       "duration_sec\n",
       "1512    34\n",
       "1593    30\n",
       "1459    30\n",
       "1992    29\n",
       "2151    29\n",
       "        ..\n",
       "7620     1\n",
       "9921     1\n",
       "5679     1\n",
       "72       1\n",
       "6197     1\n",
       "Name: count, Length: 7276, dtype: int64"
      ]
     },
     "execution_count": 93,
     "metadata": {},
     "output_type": "execute_result"
    }
   ],
   "source": [
    "#Изучите категориальные переменные (например, время обучения). Какие значения могут принимать категориальные переменные?\n",
    "df_completed['duration_sec'].value_counts() # здесь мы считаем уникальные значения времени за которое пользователь прошел обучение\n",
    "# Аналогично было бы и с другими столбцами"
   ]
  },
  {
   "cell_type": "code",
   "execution_count": 92,
   "id": "13a2b787-f4a0-4c15-b288-532d6c20fee2",
   "metadata": {},
   "outputs": [
    {
     "name": "stdout",
     "output_type": "stream",
     "text": [
      "71750\n",
      "30\n"
     ]
    },
    {
     "data": {
      "text/plain": [
       "count    59857.000000\n",
       "mean      2696.541357\n",
       "std       1631.826723\n",
       "min         30.000000\n",
       "25%       1543.000000\n",
       "50%       2398.000000\n",
       "75%       3518.000000\n",
       "max      71750.000000\n",
       "Name: duration_sec, dtype: float64"
      ]
     },
     "execution_count": 92,
     "metadata": {},
     "output_type": "execute_result"
    }
   ],
   "source": [
    "\n",
    "# Рассчитайте минимальные и максимальные даты в обоих фреймах. Какой временной интервал покрывают полученные данные?\n",
    "print(df_completed['duration_sec'].max())\n",
    "print(df_completed['duration_sec'].min())\n",
    "\n",
    "df_completed['duration_sec'].describe()\n",
    "# получем максимальное и минимальное время прохождения обчучения 2-мя способами: непосредственные командами и встроенными статистическими\n",
    "# инструментами: из результата мы видим что максимальное время прохождения и минимальное время прохождения\n",
    "# обучения= (71750, 30) секунд соответственно. Среднне время 2696 секунд. Мощность выборки - 59857."
   ]
  },
  {
   "cell_type": "markdown",
   "id": "a30cd424-c27c-49b5-bb3d-633f40995f71",
   "metadata": {},
   "source": [
    "# Задание 2. Описательная статистика\n",
    "##### Исследуйте колонки duration_sec (а для session_duration у меня нет нужного фрейма)"
   ]
  },
  {
   "cell_type": "code",
   "execution_count": 109,
   "id": "c36b3c76-d800-45ec-9cf9-ccf465cadda5",
   "metadata": {},
   "outputs": [
    {
     "name": "stdout",
     "output_type": "stream",
     "text": [
      "среднее [сек]:  2696.541356900613\n",
      "стандартное отклонение [сек]:  1631.82672329392\n",
      "медиана [сек]:  2398.0\n"
     ]
    }
   ],
   "source": [
    "# Рассчитайте для каждой из колонок среднее, среднеквадратическое отклонение, медиану;\n",
    "# Непосредственный способ\n",
    "print(\"среднее [сек]: \", df_completed['duration_sec'].mean())\n",
    "print(\"стандартное отклонение [сек]: \", df_completed['duration_sec'].std())\n",
    "print(\"медиана [сек]: \", df_completed['duration_sec'].median())"
   ]
  },
  {
   "cell_type": "code",
   "execution_count": 108,
   "id": "6c661d41-45ef-41f1-a7e4-3b332df99244",
   "metadata": {},
   "outputs": [
    {
     "name": "stdout",
     "output_type": "stream",
     "text": [
      "среднее [мин]:  44.942355948343554\n",
      "стандартное отклонение [мин]:  27.197112054898664\n",
      "медиана [мин]:  39.96666666666667\n"
     ]
    }
   ],
   "source": [
    "# Рассчитайте для каждой из колонок среднее и медиану в минутах;\n",
    "print(\"среднее [мин]: \", (df_completed['duration_sec']/60).mean())\n",
    "print(\"стандартное отклонение [мин]: \", (df_completed['duration_sec']/60).std())\n",
    "print(\"медиана [мин]: \", (df_completed['duration_sec']/60).median())"
   ]
  },
  {
   "cell_type": "code",
   "execution_count": 123,
   "id": "4dbf7e2f-616f-45fe-8f44-87eff600c225",
   "metadata": {},
   "outputs": [
    {
     "data": {
      "image/png": "[encoded data removed]",
      "text/plain": [
       "<Figure size 640x480 with 1 Axes>"
      ]
     },
     "metadata": {},
     "output_type": "display_data"
    }
   ],
   "source": [
    "# Постройте гистограммы для колонок duration_sec. Опишите, какие распределения вы видите на гистограммах;\n",
    "# Опишите ваши выводы и наблюдения.\n",
    "plt.hist(df_completed['duration_sec'], bins = 100)\n",
    "plt.xlabel('время на прохождение обучения [c]')\n",
    "plt.ylabel('Частота появления')\n",
    "plt.title('Статистика по игровому обучению')\n",
    "plt.grid(True) # можно было не писать, оно по default так\n",
    "plt.show()\n",
    "# распределение похоже на нормальное, но все же я бы его таким не назвал \n",
    "# и использовал бы далее методы предназначенные не для нормальных распределений"
   ]
  },
  {
   "cell_type": "markdown",
   "id": "4a0a2ee2-b068-45cd-a728-eaa3f9854bdf",
   "metadata": {},
   "source": [
    "# Задание 3. Исследование выбросов"
   ]
  },
  {
   "cell_type": "code",
   "execution_count": 146,
   "id": "84e536ca-8417-454d-bfdc-2333146fd3e0",
   "metadata": {},
   "outputs": [
    {
     "data": {
      "image/png": "[encoded data removed]",
      "text/plain": [
       "<Figure size 640x480 with 1 Axes>"
      ]
     },
     "metadata": {},
     "output_type": "display_data"
    },
    {
     "name": "stdout",
     "output_type": "stream",
     "text": [
      "99 перцентиль:  7605.440000000002\n"
     ]
    }
   ],
   "source": [
    "# Исследуйте колонки duration_sec на наличие выбросов:\n",
    "df_completed.boxplot(\"duration_sec\", vert = False) # строим ящик с усами\n",
    "plt.xlabel('время на прохождение обучения')\n",
    "plt.title('Диаграмма размаха времени, затраченного пользователями на прохождение обучения')\n",
    "plt.show()\n",
    "percentil_99 = df_completed[\"duration_sec\"].quantile(0.99) # считаем 0.99 перцентиль\n",
    "print(\"99 перцентиль: \", percentil_99)\n",
    "# выводы: очень много выбросов, скорее всего, пользователям что то мешает и они затягивают/ не проходят вступление\n",
    "# те же, кто проходят обучение, укладываются за 7605 секунд с веротяностью 0.99"
   ]
  },
  {
   "cell_type": "markdown",
   "id": "24c77ded-3eac-4203-a5d6-4769d52076db",
   "metadata": {},
   "source": [
    "# Задание 4. Сохранение данных в файл"
   ]
  },
  {
   "cell_type": "code",
   "execution_count": 153,
   "id": "77f9b4e7-255a-4bf3-8bc6-474d0202540e",
   "metadata": {},
   "outputs": [],
   "source": [
    "#С помощью query отфильтруйте из таблиц визитов и учебных игр выбросы по столбцам duration_sec\n",
    "out_of_data = df_completed.query('duration_sec > 7605') # фильтруем выбросы - всех тех кто не вошел в 0.99 доверительный интервал\n",
    "#df_completed[\"duration_sec\"]\n",
    "#out_of_data\n",
    "out_of_data_sort = sorted(out_of_data['duration_sec']) # сортируем их по возрастанию"
   ]
  },
  {
   "cell_type": "code",
   "execution_count": 150,
   "id": "1b4ea500-b934-4046-a119-85833c1dc228",
   "metadata": {},
   "outputs": [],
   "source": [
    "# Сохраните получившиеся дата-фреймы в csv-файлы\n",
    "out_of_data.to_csv(\"task4_out_of_data.csv\", index=False) # сохраняем выбросы в csv файл"
   ]
  },
  {
   "cell_type": "markdown",
   "id": "1f8a7d92-c9ac-41d8-8f15-a443aa9f1787",
   "metadata": {},
   "source": [
    "# Задание 5. Фильтрация выбросов с помощью функции\n",
    "##### Напишите функцию filter_outliers, которая принимает на вход:\n",
    "##### Датафрейм;\n",
    "##### Наименование столбца, по которому в этом датафрейме нужно найти выбросы;\n",
    "##### Значения границы выбросов для расчета перцентиля.\n",
    "##### Функция должна убирать из фрейма все выбросы по указанному столбцу и возвращать отфильтрованный датафрейм"
   ]
  },
  {
   "cell_type": "code",
   "execution_count": 166,
   "id": "91ee13f8-e46f-41c2-b0b1-e2d3329a6503",
   "metadata": {},
   "outputs": [
    {
     "name": "stdout",
     "output_type": "stream",
     "text": [
      "            user_id          event_name             event_dt  duration_sec\n",
      "173    -14c3534f937  tutorial_completed  2020-04-15 09:27:04          8581\n",
      "244    -2367420c42a  tutorial_completed  2020-05-15 21:31:46          8618\n",
      "426    -4b5f83c89-c  tutorial_completed  2020-05-12 12:31:49          7817\n",
      "516    -607465d8-37  tutorial_completed  2020-05-26 07:06:31          8827\n",
      "597    -74065c75f7a  tutorial_completed  2020-05-29 00:57:08         10554\n",
      "...             ...                 ...                  ...           ...\n",
      "59440  fc0_9f2d8cab  tutorial_completed  2020-06-05 05:03:56          9216\n",
      "59610  fd2_-06f4974  tutorial_completed  2020-06-04 23:31:42          8007\n",
      "59652  fd882c7710-a  tutorial_completed  2020-06-03 21:48:03          8578\n",
      "59782  ff71-b-__76d  tutorial_completed  2020-06-18 21:43:14          7668\n",
      "59836  ffc8779a761a  tutorial_completed  2020-04-18 11:25:22          8370\n",
      "\n",
      "[599 rows x 4 columns]\n",
      "\n",
      "===========================================================================\n",
      "\n",
      "            user_id          event_name             event_dt  duration_sec\n",
      "2      --0424774bcb  tutorial_completed  2020-05-30 07:23:05          3758\n",
      "10     --1603_0b1-_  tutorial_completed  2020-06-23 13:35:17          3519\n",
      "18     --4236df-601  tutorial_completed  2020-05-31 19:05:54          3998\n",
      "24     --5429c084-4  tutorial_completed  2020-05-23 05:58:27          4471\n",
      "32     --7713_f68-4  tutorial_completed  2020-05-31 20:11:57          4685\n",
      "...             ...                 ...                  ...           ...\n",
      "59836  ffc8779a761a  tutorial_completed  2020-04-18 11:25:22          8370\n",
      "59837  ffca43_b688d  tutorial_completed  2020-04-10 15:51:26          3816\n",
      "59842  ffd3551ad13f  tutorial_completed  2020-05-25 12:27:31          5223\n",
      "59846  ffdc9a8-a8a2  tutorial_completed  2020-06-05 20:09:28          4420\n",
      "59847  fff08_7f085b  tutorial_completed  2020-05-03 06:43:35          3558\n",
      "\n",
      "[14961 rows x 4 columns]\n",
      "\n",
      "===========================================================================\n",
      "\n",
      "            user_id          event_name             event_dt  duration_sec\n",
      "2      --0424774bcb  tutorial_completed  2020-05-30 07:23:05          3758\n",
      "4      --05-26b0-6b  tutorial_completed  2020-05-20 13:07:08          2828\n",
      "9      --158fa03d_f  tutorial_completed  2020-04-24 13:48:53          3061\n",
      "10     --1603_0b1-_  tutorial_completed  2020-06-23 13:35:17          3519\n",
      "11     --1d8760d14a  tutorial_completed  2020-06-02 00:43:56          2661\n",
      "...             ...                 ...                  ...           ...\n",
      "59847  fff08_7f085b  tutorial_completed  2020-05-03 06:43:35          3558\n",
      "59849  fff35305317a  tutorial_completed  2020-06-30 11:51:54          2693\n",
      "59851  fff60-20ddb0  tutorial_completed  2020-05-05 11:47:49          3362\n",
      "59852  fff68c81cb2f  tutorial_completed  2020-06-04 22:59:42          2578\n",
      "59854  fff88bbb3_c8  tutorial_completed  2020-05-28 13:14:38          2544\n",
      "\n",
      "[29918 rows x 4 columns]\n",
      "\n",
      "===========================================================================\n",
      "\n",
      "            user_id          event_name             event_dt  duration_sec\n",
      "2      --0424774bcb  tutorial_completed  2020-05-30 07:23:05          3758\n",
      "4      --05-26b0-6b  tutorial_completed  2020-05-20 13:07:08          2828\n",
      "7      --1-abff208-  tutorial_completed  2020-05-17 22:54:55          1869\n",
      "9      --158fa03d_f  tutorial_completed  2020-04-24 13:48:53          3061\n",
      "10     --1603_0b1-_  tutorial_completed  2020-06-23 13:35:17          3519\n",
      "...             ...                 ...                  ...           ...\n",
      "59851  fff60-20ddb0  tutorial_completed  2020-05-05 11:47:49          3362\n",
      "59852  fff68c81cb2f  tutorial_completed  2020-06-04 22:59:42          2578\n",
      "59853  fff7d81ca3_5  tutorial_completed  2020-05-31 18:55:50          2078\n",
      "59854  fff88bbb3_c8  tutorial_completed  2020-05-28 13:14:38          2544\n",
      "59855  fff97c4d3c74  tutorial_completed  2020-06-16 09:35:12          1783\n",
      "\n",
      "[44878 rows x 4 columns]\n"
     ]
    }
   ],
   "source": [
    "# функция не предназначена для исключений, подразумевается что датафрейм и столбец существуют quantile < 1\n",
    "def sep():\n",
    "    print(f\"\\n{'='*75}\\n\")\n",
    "\n",
    "\n",
    "def filter_outliers(data_frame, data_string: str, quantile_num: float):\n",
    "    percentil = data_frame[data_string].quantile(quantile_num)\n",
    "    return data_frame[(data_frame[data_string] > percentil)]\n",
    "\n",
    "\n",
    "#примеры выходных данных\n",
    "print(filter_outliers(df_completed,\"duration_sec\",0.99))\n",
    "sep()\n",
    "print(filter_outliers(df_completed,\"duration_sec\",0.75))\n",
    "sep()\n",
    "print(filter_outliers(df_completed,\"duration_sec\",0.5))\n",
    "sep()\n",
    "print(filter_outliers(df_completed,\"duration_sec\",0.25))"
   ]
  },
  {
   "cell_type": "code",
   "execution_count": null,
   "id": "89af35dd-7e0a-4115-93ec-9ed85fcadd2c",
   "metadata": {},
   "outputs": [],
   "source": []
  }
 ],
 "metadata": {
  "kernelspec": {
   "display_name": "Python 3 (ipykernel)",
   "language": "python",
   "name": "python3"
  },
  "language_info": {
   "codemirror_mode": {
    "name": "ipython",
    "version": 3
   },
   "file_extension": ".py",
   "mimetype": "text/x-python",
   "name": "python",
   "nbconvert_exporter": "python",
   "pygments_lexer": "ipython3",
   "version": "3.12.7"
  }
 },
 "nbformat": 4,
 "nbformat_minor": 5
}
