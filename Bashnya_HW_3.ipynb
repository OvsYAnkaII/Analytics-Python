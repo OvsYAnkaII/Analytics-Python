{
 "cells": [
  {
   "cell_type": "code",
   "execution_count": 28,
   "id": "44c154bb-3a10-439d-9800-d1fb5e5ae0ff",
   "metadata": {},
   "outputs": [
    {
     "name": "stdout",
     "output_type": "stream",
     "text": [
      "Определение: Ба́шня — инженерное сооружение, отличающееся значительным преобладанием высоты над стороной или диаметром основания. Башни могут быть отдельно стоящими или соединёнными с другим зданием или стеной. Ствол башни может быть сплошным (у каменных и железобетонных конструкций) или сквозным, а в сечении круглым, квадратным, многоугольным, встречаются также сечения других форм.\n"
     ]
    }
   ],
   "source": [
    "import requests\n",
    "from bs4 import BeautifulSoup\n",
    "\n",
    "# URL страницы Википедии\n",
    "url = 'https://ru.wikipedia.org/wiki/%D0%91%D0%B0%D1%88%D0%BD%D1%8F'\n",
    "\n",
    "# Выполнение GET запроса\n",
    "response = requests.get(url)\n",
    "\n",
    "# Проверяем удался ли запрос 200 = удался, если еще что то - выводим ошибку\n",
    "if response.status_code == 200:\n",
    "    # Парсинг HTML-кода страницы\n",
    "    soup = BeautifulSoup(response.text, 'html.parser')\n",
    "    # забираем весь основной текст со страницы\n",
    "    headers = soup.find_all(['p'])\n",
    "    # отбираем только термин и определение, которые находятся на 0-м месте в списке, берем от них \"текст\" - сам текст без структур html\n",
    "    definition = headers[0].text\n",
    "    # чистим текст от ненужных скобок и тд\n",
    "    for iterable in [\"1\",\"2\",\"3\",\"[\",\"]\"]:\n",
    "        definition = definition.replace(iterable, \"\")\n",
    "    # выводим текст, убрав лишние пробелы, которые могли появиться\n",
    "    print(\"Определение:\",definition.strip())\n",
    "else:\n",
    "    print(f\"Failed to retrieve the webpage. Status code: {response.status_code}\")"
   ]
  },
  {
   "cell_type": "code",
   "execution_count": null,
   "id": "3c0fb66b-b4e2-4b3f-a796-c4fde8cdc75f",
   "metadata": {},
   "outputs": [],
   "source": []
  },
  {
   "cell_type": "code",
   "execution_count": null,
   "id": "53935614-ea56-41bd-bc87-ad4007e97799",
   "metadata": {},
   "outputs": [],
   "source": []
  }
 ],
 "metadata": {
  "kernelspec": {
   "display_name": "Python 3 (ipykernel)",
   "language": "python",
   "name": "python3"
  },
  "language_info": {
   "codemirror_mode": {
    "name": "ipython",
    "version": 3
   },
   "file_extension": ".py",
   "mimetype": "text/x-python",
   "name": "python",
   "nbconvert_exporter": "python",
   "pygments_lexer": "ipython3",
   "version": "3.12.7"
  }
 },
 "nbformat": 4,
 "nbformat_minor": 5
}
